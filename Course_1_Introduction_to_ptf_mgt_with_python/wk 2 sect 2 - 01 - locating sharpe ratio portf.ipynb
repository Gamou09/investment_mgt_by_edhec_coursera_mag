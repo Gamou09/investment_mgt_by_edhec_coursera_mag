{
 "cells": [
  {
   "cell_type": "markdown",
   "metadata": {},
   "source": [
    "## Finding the Max Sharpe Ratio Portfolio :"
   ]
  },
  {
   "cell_type": "code",
   "execution_count": 16,
   "metadata": {},
   "outputs": [
    {
     "name": "stdout",
     "output_type": "stream",
     "text": [
      "The autoreload extension is already loaded. To reload it, use:\n",
      "  %reload_ext autoreload\n"
     ]
    }
   ],
   "source": [
    "%load_ext autoreload\n",
    "%autoreload 2\n",
    "%matplotlib inline\n",
    "\n",
    "import edhec_risk_kit as erk"
   ]
  },
  {
   "cell_type": "code",
   "execution_count": 17,
   "metadata": {},
   "outputs": [],
   "source": [
    "ind = erk.get_ind_returns()\n",
    "er = erk.annualize_rets(ind[\"1996\":\"2000\"], 12)\n",
    "vol = erk.annualize_vol(ind[\"1996\":\"2000\"], 12)\n",
    "cov = ind[\"1996\":\"2000\"].cov()"
   ]
  },
  {
   "cell_type": "code",
   "execution_count": 25,
   "metadata": {},
   "outputs": [],
   "source": [
    "from scipy.optimize import minimize\n",
    "import numpy as np\n",
    "import pandas as pd\n",
    "\n",
    "def msr(riskfree_rate, er, cov):\n",
    "    \"\"\"\n",
    "    riskfree_rate + ER + COV --> w\n",
    "    \"\"\"\n",
    "    n = er.shape[0]\n",
    "    init_guess = np.repeat(1/n, n) # could be whatever we like but sum equals 1\n",
    "    bounds = ((0.0,1.0), )*n # tuple of tuple\n",
    "    weights_sum_to_1 = {\n",
    "        'type':'eq',\n",
    "        'fun': lambda weights: np.sum(weights) - 1\n",
    "    }\n",
    "    \n",
    "    def neg_sharpe_ratio(weights, riskfree_rate, er, cov):\n",
    "        \"\"\"\n",
    "        returns the negative of the sharpe ratio, given weights\n",
    "        \"\"\"\n",
    "        r = erk.portfolio_return(weights, er)\n",
    "        vol = erk.portfolio_vol(weights, cov)\n",
    "        return -(r - riskfree_rate)/vol\n",
    "    \n",
    "    \n",
    "    results = minimize(neg_sharpe_ratio, init_guess,\n",
    "                       args= (riskfree_rate, er, cov,), method=\"SLSQP\",\n",
    "                       options={'disp': False},\n",
    "                       constraints = (weights_sum_to_1),\n",
    "                       bounds = bounds\n",
    "                      )\n",
    "    return results.x\n"
   ]
  },
  {
   "cell_type": "code",
   "execution_count": 19,
   "metadata": {},
   "outputs": [
    {
     "data": {
      "text/plain": [
       "<matplotlib.axes._subplots.AxesSubplot at 0x1e52ea80588>"
      ]
     },
     "execution_count": 19,
     "metadata": {},
     "output_type": "execute_result"
    },
    {
     "data": {
      "image/png": "[encoded data removed]",
      "text/plain": [
       "<matplotlib.figure.Figure at 0x1e52ea806d8>"
      ]
     },
     "metadata": {},
     "output_type": "display_data"
    }
   ],
   "source": [
    "erk.plot_ef(20, er, cov)"
   ]
  },
  {
   "cell_type": "code",
   "execution_count": 22,
   "metadata": {},
   "outputs": [
    {
     "data": {
      "text/plain": [
       "[<matplotlib.lines.Line2D at 0x1e52ee5f0b8>]"
      ]
     },
     "execution_count": 22,
     "metadata": {},
     "output_type": "execute_result"
    },
    {
     "data": {
      "image/png": "[encoded data removed]",
      "text/plain": [
       "<matplotlib.figure.Figure at 0x1e52eccbdd8>"
      ]
     },
     "metadata": {},
     "output_type": "display_data"
    }
   ],
   "source": [
    "ax = erk.plot_ef(20, er, cov)\n",
    "ax.set_xlim(left = 0)\n",
    "rf = 0.1\n",
    "w_msr = msr(rf, er, cov)\n",
    "r_msr = erk.portfolio_return(w_msr, er)\n",
    "vol_msr = erk.portfolio_vol(w_msr, cov)\n",
    "# add CML - Capital Market line\n",
    "cml_x = [0,vol_msr]\n",
    "cml_y = [rf,r_msr]\n",
    "ax.plot(cml_x, cml_y, color=\"green\", marker=\"o\", linestyle=\"dashed\")"
   ]
  },
  {
   "cell_type": "code",
   "execution_count": 24,
   "metadata": {},
   "outputs": [
    {
     "data": {
      "text/plain": [
       "30"
      ]
     },
     "execution_count": 24,
     "metadata": {},
     "output_type": "execute_result"
    }
   ],
   "source": [
    "len(w_msr)"
   ]
  },
  {
   "cell_type": "code",
   "execution_count": 32,
   "metadata": {},
   "outputs": [
    {
     "data": {
      "text/plain": [
       "<matplotlib.axes._subplots.AxesSubplot at 0x1e52f2d5278>"
      ]
     },
     "execution_count": 32,
     "metadata": {},
     "output_type": "execute_result"
    },
    {
     "data": {
      "image/png": "[encoded data removed]",
      "text/plain": [
       "<matplotlib.figure.Figure at 0x1e52f2d1e80>"
      ]
     },
     "metadata": {},
     "output_type": "display_data"
    }
   ],
   "source": [
    "erk.plot_ef(20, er, cov, show_cml = True, riskfree_rate = 0.1)"
   ]
  },
  {
   "cell_type": "code",
   "execution_count": 64,
   "metadata": {},
   "outputs": [
    {
     "data": {
      "text/plain": [
       "<matplotlib.axes._subplots.AxesSubplot at 0x1e52f4ff3c8>"
      ]
     },
     "execution_count": 64,
     "metadata": {},
     "output_type": "execute_result"
    },
    {
     "data": {
      "image/png": "[encoded data removed]",
      "text/plain": [
       "<matplotlib.figure.Figure at 0x1e52f4ef588>"
      ]
     },
     "metadata": {},
     "output_type": "display_data"
    }
   ],
   "source": [
    "erk.plot_ef(20, er, cov, show_cml = True, riskfree_rate = 0.1)"
   ]
  },
  {
   "cell_type": "code",
   "execution_count": 65,
   "metadata": {},
   "outputs": [
    {
     "data": {
      "text/plain": [
       "(22.0, 4.0)"
      ]
     },
     "execution_count": 65,
     "metadata": {},
     "output_type": "execute_result"
    }
   ],
   "source": [
    "rf = 0.01\n",
    "w_msr = msr(rf, er, cov)\n",
    "r_msr = erk.portfolio_return(w_msr, er)\n",
    "vol_msr = erk.portfolio_vol(w_msr, cov)\n",
    "(100*r_msr.round(2), 100*vol_msr.round(2))"
   ]
  },
  {
   "cell_type": "code",
   "execution_count": 66,
   "metadata": {},
   "outputs": [
    {
     "data": {
      "text/html": [
       "<div>\n",
       "<style scoped>\n",
       "    .dataframe tbody tr th:only-of-type {\n",
       "        vertical-align: middle;\n",
       "    }\n",
       "\n",
       "    .dataframe tbody tr th {\n",
       "        vertical-align: top;\n",
       "    }\n",
       "\n",
       "    .dataframe thead th {\n",
       "        text-align: right;\n",
       "    }\n",
       "</style>\n",
       "<table border=\"1\" class=\"dataframe\">\n",
       "  <thead>\n",
       "    <tr style=\"text-align: right;\">\n",
       "      <th></th>\n",
       "      <th>er</th>\n",
       "      <th>vol</th>\n",
       "      <th>w_msr_in_pct</th>\n",
       "    </tr>\n",
       "  </thead>\n",
       "  <tbody>\n",
       "    <tr>\n",
       "      <th>Util</th>\n",
       "      <td>14.59035</td>\n",
       "      <td>15.44835</td>\n",
       "      <td>34.01601</td>\n",
       "    </tr>\n",
       "    <tr>\n",
       "      <th>Hlth</th>\n",
       "      <td>24.66405</td>\n",
       "      <td>17.54408</td>\n",
       "      <td>29.46828</td>\n",
       "    </tr>\n",
       "    <tr>\n",
       "      <th>Rtail</th>\n",
       "      <td>20.72470</td>\n",
       "      <td>20.43587</td>\n",
       "      <td>18.27595</td>\n",
       "    </tr>\n",
       "    <tr>\n",
       "      <th>BusEq</th>\n",
       "      <td>27.19517</td>\n",
       "      <td>33.97584</td>\n",
       "      <td>7.71442</td>\n",
       "    </tr>\n",
       "    <tr>\n",
       "      <th>Coal</th>\n",
       "      <td>41.46890</td>\n",
       "      <td>47.29605</td>\n",
       "      <td>6.34465</td>\n",
       "    </tr>\n",
       "    <tr>\n",
       "      <th>ElcEq</th>\n",
       "      <td>27.24197</td>\n",
       "      <td>23.93568</td>\n",
       "      <td>4.18070</td>\n",
       "    </tr>\n",
       "    <tr>\n",
       "      <th>Food</th>\n",
       "      <td>11.67987</td>\n",
       "      <td>17.69504</td>\n",
       "      <td>0.00000</td>\n",
       "    </tr>\n",
       "    <tr>\n",
       "      <th>Mines</th>\n",
       "      <td>-5.35544</td>\n",
       "      <td>29.73531</td>\n",
       "      <td>0.00000</td>\n",
       "    </tr>\n",
       "    <tr>\n",
       "      <th>Fin</th>\n",
       "      <td>22.33714</td>\n",
       "      <td>21.85839</td>\n",
       "      <td>0.00000</td>\n",
       "    </tr>\n",
       "    <tr>\n",
       "      <th>Meals</th>\n",
       "      <td>6.73999</td>\n",
       "      <td>18.90589</td>\n",
       "      <td>0.00000</td>\n",
       "    </tr>\n",
       "    <tr>\n",
       "      <th>Whlsl</th>\n",
       "      <td>12.64305</td>\n",
       "      <td>18.11447</td>\n",
       "      <td>0.00000</td>\n",
       "    </tr>\n",
       "    <tr>\n",
       "      <th>Trans</th>\n",
       "      <td>7.10991</td>\n",
       "      <td>18.49830</td>\n",
       "      <td>0.00000</td>\n",
       "    </tr>\n",
       "    <tr>\n",
       "      <th>Paper</th>\n",
       "      <td>9.71627</td>\n",
       "      <td>20.22637</td>\n",
       "      <td>0.00000</td>\n",
       "    </tr>\n",
       "    <tr>\n",
       "      <th>Servs</th>\n",
       "      <td>17.52640</td>\n",
       "      <td>30.22326</td>\n",
       "      <td>0.00000</td>\n",
       "    </tr>\n",
       "    <tr>\n",
       "      <th>Telcm</th>\n",
       "      <td>12.27705</td>\n",
       "      <td>20.69497</td>\n",
       "      <td>0.00000</td>\n",
       "    </tr>\n",
       "    <tr>\n",
       "      <th>Oil</th>\n",
       "      <td>16.53775</td>\n",
       "      <td>19.51090</td>\n",
       "      <td>0.00000</td>\n",
       "    </tr>\n",
       "    <tr>\n",
       "      <th>Carry</th>\n",
       "      <td>17.39042</td>\n",
       "      <td>22.23663</td>\n",
       "      <td>0.00000</td>\n",
       "    </tr>\n",
       "    <tr>\n",
       "      <th>Beer</th>\n",
       "      <td>14.11258</td>\n",
       "      <td>25.13361</td>\n",
       "      <td>0.00000</td>\n",
       "    </tr>\n",
       "    <tr>\n",
       "      <th>Autos</th>\n",
       "      <td>8.09541</td>\n",
       "      <td>22.76965</td>\n",
       "      <td>0.00000</td>\n",
       "    </tr>\n",
       "    <tr>\n",
       "      <th>FabPr</th>\n",
       "      <td>10.82804</td>\n",
       "      <td>22.86588</td>\n",
       "      <td>0.00000</td>\n",
       "    </tr>\n",
       "    <tr>\n",
       "      <th>Steel</th>\n",
       "      <td>11.58086</td>\n",
       "      <td>29.45586</td>\n",
       "      <td>0.00000</td>\n",
       "    </tr>\n",
       "    <tr>\n",
       "      <th>Cnstr</th>\n",
       "      <td>8.40756</td>\n",
       "      <td>20.93268</td>\n",
       "      <td>0.00000</td>\n",
       "    </tr>\n",
       "    <tr>\n",
       "      <th>Txtls</th>\n",
       "      <td>-4.27210</td>\n",
       "      <td>19.33994</td>\n",
       "      <td>0.00000</td>\n",
       "    </tr>\n",
       "    <tr>\n",
       "      <th>Chems</th>\n",
       "      <td>7.74564</td>\n",
       "      <td>19.82648</td>\n",
       "      <td>0.00000</td>\n",
       "    </tr>\n",
       "    <tr>\n",
       "      <th>Clths</th>\n",
       "      <td>7.91602</td>\n",
       "      <td>26.04903</td>\n",
       "      <td>0.00000</td>\n",
       "    </tr>\n",
       "    <tr>\n",
       "      <th>Hshld</th>\n",
       "      <td>13.47660</td>\n",
       "      <td>19.89942</td>\n",
       "      <td>0.00000</td>\n",
       "    </tr>\n",
       "    <tr>\n",
       "      <th>Books</th>\n",
       "      <td>18.72856</td>\n",
       "      <td>17.70376</td>\n",
       "      <td>0.00000</td>\n",
       "    </tr>\n",
       "    <tr>\n",
       "      <th>Games</th>\n",
       "      <td>6.82115</td>\n",
       "      <td>21.27761</td>\n",
       "      <td>0.00000</td>\n",
       "    </tr>\n",
       "    <tr>\n",
       "      <th>Smoke</th>\n",
       "      <td>10.78304</td>\n",
       "      <td>31.65198</td>\n",
       "      <td>0.00000</td>\n",
       "    </tr>\n",
       "    <tr>\n",
       "      <th>Other</th>\n",
       "      <td>4.33488</td>\n",
       "      <td>22.45039</td>\n",
       "      <td>0.00000</td>\n",
       "    </tr>\n",
       "  </tbody>\n",
       "</table>\n",
       "</div>"
      ],
      "text/plain": [
       "             er       vol  w_msr_in_pct\n",
       "Util   14.59035  15.44835      34.01601\n",
       "Hlth   24.66405  17.54408      29.46828\n",
       "Rtail  20.72470  20.43587      18.27595\n",
       "BusEq  27.19517  33.97584       7.71442\n",
       "Coal   41.46890  47.29605       6.34465\n",
       "ElcEq  27.24197  23.93568       4.18070\n",
       "Food   11.67987  17.69504       0.00000\n",
       "Mines  -5.35544  29.73531       0.00000\n",
       "Fin    22.33714  21.85839       0.00000\n",
       "Meals   6.73999  18.90589       0.00000\n",
       "Whlsl  12.64305  18.11447       0.00000\n",
       "Trans   7.10991  18.49830       0.00000\n",
       "Paper   9.71627  20.22637       0.00000\n",
       "Servs  17.52640  30.22326       0.00000\n",
       "Telcm  12.27705  20.69497       0.00000\n",
       "Oil    16.53775  19.51090       0.00000\n",
       "Carry  17.39042  22.23663       0.00000\n",
       "Beer   14.11258  25.13361       0.00000\n",
       "Autos   8.09541  22.76965       0.00000\n",
       "FabPr  10.82804  22.86588       0.00000\n",
       "Steel  11.58086  29.45586       0.00000\n",
       "Cnstr   8.40756  20.93268       0.00000\n",
       "Txtls  -4.27210  19.33994       0.00000\n",
       "Chems   7.74564  19.82648       0.00000\n",
       "Clths   7.91602  26.04903       0.00000\n",
       "Hshld  13.47660  19.89942       0.00000\n",
       "Books  18.72856  17.70376       0.00000\n",
       "Games   6.82115  21.27761       0.00000\n",
       "Smoke  10.78304  31.65198       0.00000\n",
       "Other   4.33488  22.45039       0.00000"
      ]
     },
     "execution_count": 66,
     "metadata": {},
     "output_type": "execute_result"
    }
   ],
   "source": [
    "pouf = pd.DataFrame({\n",
    "    \"er\":(100*er).round(5), \n",
    "    \"vol\":(100*vol).round(5),\n",
    "    \"w_msr_in_pct\": (100*w_msr).round(5)\n",
    "})\n",
    "pouf.sort_values(by = \"w_msr_in_pct\", ascending=False)"
   ]
  },
  {
   "cell_type": "code",
   "execution_count": null,
   "metadata": {},
   "outputs": [],
   "source": []
  },
  {
   "cell_type": "code",
   "execution_count": null,
   "metadata": {},
   "outputs": [],
   "source": []
  }
 ],
 "metadata": {
  "kernelspec": {
   "display_name": "Python 3",
   "language": "python",
   "name": "python3"
  },
  "language_info": {
   "codemirror_mode": {
    "name": "ipython",
    "version": 3
   },
   "file_extension": ".py",
   "mimetype": "text/x-python",
   "name": "python",
   "nbconvert_exporter": "python",
   "pygments_lexer": "ipython3",
   "version": "3.6.3"
  }
 },
 "nbformat": 4,
 "nbformat_minor": 2
}
